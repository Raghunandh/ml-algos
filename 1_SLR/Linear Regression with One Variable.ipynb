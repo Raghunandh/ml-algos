{
 "cells": [
  {
   "cell_type": "markdown",
   "metadata": {},
   "source": [
    "# Linear Regression with One Variable\n",
    "\n",
    "This notebook is an implemention of simple linear regression to predict profits for a food truck. Lets suppose a CEO of a\n",
    "restaurant franchise is considering different cities for opening a new\n",
    "outlet. The chain already has trucks in various cities and we have data for\n",
    "profits and populations from the cities.\n",
    "\n",
    "We would like to use this data to select which city to expand\n",
    "to next. The file 'data1_single.txt' contains the dataset for our linear regression prob-\n",
    "lem. The first column is the population of a city and the second column is\n",
    "the profit of a food truck in that city. A negative value for profit indicates a\n",
    "loss."
   ]
  },
  {
   "cell_type": "code",
   "execution_count": 80,
   "metadata": {
    "collapsed": true
   },
   "outputs": [],
   "source": [
    "# Import the necessary packages\n",
    "import numpy as np\n",
    "import pandas as pd\n",
    "import matplotlib.pyplot as plt\n",
    "\n",
    "from mpl_toolkits import mplot3d\n",
    "\n",
    "%matplotlib inline"
   ]
  },
  {
   "cell_type": "code",
   "execution_count": 81,
   "metadata": {
    "collapsed": true
   },
   "outputs": [],
   "source": [
    "# Load the dataset as a numpy array\n",
    "dataset_array = np.loadtxt('data1_single.txt', delimiter=',')\n",
    "m,n = dataset_array.shape"
   ]
  },
  {
   "cell_type": "code",
   "execution_count": 82,
   "metadata": {
    "collapsed": true
   },
   "outputs": [],
   "source": [
    "# Load the dataset as a dataframe 'df' to do Exploratory Data Analysis\n",
    "df = pd.read_table('data1_single.txt', delimiter=',', names=('Population', 'Profit'))"
   ]
  },
  {
   "cell_type": "markdown",
   "metadata": {},
   "source": [
    "## Exploring the data"
   ]
  },
  {
   "cell_type": "code",
   "execution_count": 83,
   "metadata": {},
   "outputs": [
    {
     "data": {
      "text/html": [
       "<div>\n",
       "<style>\n",
       "    .dataframe thead tr:only-child th {\n",
       "        text-align: right;\n",
       "    }\n",
       "\n",
       "    .dataframe thead th {\n",
       "        text-align: left;\n",
       "    }\n",
       "\n",
       "    .dataframe tbody tr th {\n",
       "        vertical-align: top;\n",
       "    }\n",
       "</style>\n",
       "<table border=\"1\" class=\"dataframe\">\n",
       "  <thead>\n",
       "    <tr style=\"text-align: right;\">\n",
       "      <th></th>\n",
       "      <th>Population</th>\n",
       "      <th>Profit</th>\n",
       "    </tr>\n",
       "  </thead>\n",
       "  <tbody>\n",
       "    <tr>\n",
       "      <th>0</th>\n",
       "      <td>6.1101</td>\n",
       "      <td>17.5920</td>\n",
       "    </tr>\n",
       "    <tr>\n",
       "      <th>1</th>\n",
       "      <td>5.5277</td>\n",
       "      <td>9.1302</td>\n",
       "    </tr>\n",
       "    <tr>\n",
       "      <th>2</th>\n",
       "      <td>8.5186</td>\n",
       "      <td>13.6620</td>\n",
       "    </tr>\n",
       "    <tr>\n",
       "      <th>3</th>\n",
       "      <td>7.0032</td>\n",
       "      <td>11.8540</td>\n",
       "    </tr>\n",
       "    <tr>\n",
       "      <th>4</th>\n",
       "      <td>5.8598</td>\n",
       "      <td>6.8233</td>\n",
       "    </tr>\n",
       "  </tbody>\n",
       "</table>\n",
       "</div>"
      ],
      "text/plain": [
       "   Population   Profit\n",
       "0      6.1101  17.5920\n",
       "1      5.5277   9.1302\n",
       "2      8.5186  13.6620\n",
       "3      7.0032  11.8540\n",
       "4      5.8598   6.8233"
      ]
     },
     "execution_count": 83,
     "metadata": {},
     "output_type": "execute_result"
    }
   ],
   "source": [
    "# Print the first few rows of the dataframe\n",
    "df.head()"
   ]
  },
  {
   "cell_type": "code",
   "execution_count": 84,
   "metadata": {},
   "outputs": [
    {
     "name": "stdout",
     "output_type": "stream",
     "text": [
      "<class 'pandas.core.frame.DataFrame'>\n",
      "RangeIndex: 97 entries, 0 to 96\n",
      "Data columns (total 2 columns):\n",
      "Population    97 non-null float64\n",
      "Profit        97 non-null float64\n",
      "dtypes: float64(2)\n",
      "memory usage: 1.6 KB\n"
     ]
    }
   ],
   "source": [
    "df.info()"
   ]
  },
  {
   "cell_type": "code",
   "execution_count": 85,
   "metadata": {},
   "outputs": [
    {
     "data": {
      "text/html": [
       "<div>\n",
       "<style>\n",
       "    .dataframe thead tr:only-child th {\n",
       "        text-align: right;\n",
       "    }\n",
       "\n",
       "    .dataframe thead th {\n",
       "        text-align: left;\n",
       "    }\n",
       "\n",
       "    .dataframe tbody tr th {\n",
       "        vertical-align: top;\n",
       "    }\n",
       "</style>\n",
       "<table border=\"1\" class=\"dataframe\">\n",
       "  <thead>\n",
       "    <tr style=\"text-align: right;\">\n",
       "      <th></th>\n",
       "      <th>Population</th>\n",
       "      <th>Profit</th>\n",
       "    </tr>\n",
       "  </thead>\n",
       "  <tbody>\n",
       "    <tr>\n",
       "      <th>count</th>\n",
       "      <td>97.000000</td>\n",
       "      <td>97.000000</td>\n",
       "    </tr>\n",
       "    <tr>\n",
       "      <th>mean</th>\n",
       "      <td>8.159800</td>\n",
       "      <td>5.839135</td>\n",
       "    </tr>\n",
       "    <tr>\n",
       "      <th>std</th>\n",
       "      <td>3.869884</td>\n",
       "      <td>5.510262</td>\n",
       "    </tr>\n",
       "    <tr>\n",
       "      <th>min</th>\n",
       "      <td>5.026900</td>\n",
       "      <td>-2.680700</td>\n",
       "    </tr>\n",
       "    <tr>\n",
       "      <th>25%</th>\n",
       "      <td>5.707700</td>\n",
       "      <td>1.986900</td>\n",
       "    </tr>\n",
       "    <tr>\n",
       "      <th>50%</th>\n",
       "      <td>6.589400</td>\n",
       "      <td>4.562300</td>\n",
       "    </tr>\n",
       "    <tr>\n",
       "      <th>75%</th>\n",
       "      <td>8.578100</td>\n",
       "      <td>7.046700</td>\n",
       "    </tr>\n",
       "    <tr>\n",
       "      <th>max</th>\n",
       "      <td>22.203000</td>\n",
       "      <td>24.147000</td>\n",
       "    </tr>\n",
       "  </tbody>\n",
       "</table>\n",
       "</div>"
      ],
      "text/plain": [
       "       Population     Profit\n",
       "count   97.000000  97.000000\n",
       "mean     8.159800   5.839135\n",
       "std      3.869884   5.510262\n",
       "min      5.026900  -2.680700\n",
       "25%      5.707700   1.986900\n",
       "50%      6.589400   4.562300\n",
       "75%      8.578100   7.046700\n",
       "max     22.203000  24.147000"
      ]
     },
     "execution_count": 85,
     "metadata": {},
     "output_type": "execute_result"
    }
   ],
   "source": [
    "df.describe()"
   ]
  },
  {
   "cell_type": "markdown",
   "metadata": {},
   "source": [
    "## Plotting the data\n",
    "\n",
    "We can use a scatter plot to visualize the\n",
    "data, since it has only two properties to plot (profit and population)."
   ]
  },
  {
   "cell_type": "code",
   "execution_count": 86,
   "metadata": {},
   "outputs": [
    {
     "data": {
      "image/png": "[encoded data removed]",
      "text/plain": [
       "<matplotlib.figure.Figure at 0xb9a2550>"
      ]
     },
     "metadata": {},
     "output_type": "display_data"
    }
   ],
   "source": [
    "# Create the plot\n",
    "plt.scatter(df[['Population']], df[['Profit']], marker='o', color='blue')\n",
    "\n",
    "# Label the plot\n",
    "plt.xlabel('Population of City in $10,000s')\n",
    "plt.ylabel('Profit in 10,000s')\n",
    "\n",
    "# Display the plot\n",
    "plt.show()"
   ]
  },
  {
   "cell_type": "markdown",
   "metadata": {},
   "source": [
    "## Implementing Cost Function and Gradient Descent\n",
    "\n",
    "The cost function evaluates the quality of our model by calculating the error between our model's prediction for a data point, using the model parameters, and the actual data point. The objective of linear regression is to minimize the cost function given by the following equation:\n",
    "\n",
    "$$ J(\\theta) = \\frac{1}{2m} \\sum_{i=1}^{m} (h_\\theta(x^{(i)})-y^{(i)})^2 $$\n",
    "\n",
    "where the hypothesis $h_\\theta(x)$ is given by the linear model:\n",
    "\n",
    "$$ h_\\theta(x) = \\theta^Tx = \\theta_0 + \\theta_1x_1 $$\n",
    "\n",
    "The parameters of the model are the $\\theta_j$ values. These are the values we need to adjust to minimize cost $J(\\theta)$. One way to do this is to use the batch gradient descent algorithm. The idea with gradient descent is that for each iteration, we compute the gradient of the error term in order to figure out the appropriate direction to move our parameter vector $\\theta$. In other words, we are calculating the changes to make to our parameters in order to reduce the error, thus bringing our solution closer to the optimal solution. In batch gradient descent, each iteration performs the following update:\n",
    "\n",
    "$$\\theta_j := \\theta_j - \\alpha\\frac{1}{m}\\sum_{i=1}^{m} (h_\\theta(x^{(i)})-y^{(i)})x_j^{(i)}$$\n",
    "(simultaneously update $\\theta_j$ for all j)\n",
    "\n",
    "With each step of gradient descent, parameters $\\theta_j$ come closer to the optimal values that will achieve the lowest cost $J(\\theta)$"
   ]
  },
  {
   "cell_type": "markdown",
   "metadata": {},
   "source": [
    "### Implementation\n",
    "\n",
    "In the following lines, we add another dimension to our data to accommodate the $\\theta_0$ intercept term. We also initialize the initial parameters to 0 and the learning rate $\\alpha$ to 0.01. Learning rate is a factor in the update rule for the parameters that helps determine how quickly the algorithm will converge to the optimal solution. Selecting high learning rate may sometimes lead to divergence so trial-and-error is needed to pick a right value for $\\alpha$"
   ]
  },
  {
   "cell_type": "code",
   "execution_count": 87,
   "metadata": {},
   "outputs": [
    {
     "data": {
      "text/plain": [
       "array([[  1.    ,   6.1101,  17.592 ],\n",
       "       [  1.    ,   5.5277,   9.1302],\n",
       "       [  1.    ,   8.5186,  13.662 ],\n",
       "       [  1.    ,   7.0032,  11.854 ],\n",
       "       [  1.    ,   5.8598,   6.8233]])"
      ]
     },
     "execution_count": 87,
     "metadata": {},
     "output_type": "execute_result"
    }
   ],
   "source": [
    "dataset_array_new = np.ones((m, n+1))\n",
    "dataset_array_new[:,1:] = dataset_array\n",
    "dataset_array_new[:5,:]   # Print first 5 rows of the new array"
   ]
  },
  {
   "cell_type": "code",
   "execution_count": 88,
   "metadata": {
    "collapsed": true
   },
   "outputs": [],
   "source": [
    "# Create X (Feature) and y (Target) variables as numpy matrices\n",
    "X = dataset_array_new[:, :2]\n",
    "X = np.asmatrix(X)\n",
    "y = dataset_array_new[:,2]\n",
    "y = y.reshape(97,1)\n",
    "y = np.asmatrix(y)"
   ]
  },
  {
   "cell_type": "code",
   "execution_count": 89,
   "metadata": {},
   "outputs": [
    {
     "data": {
      "text/plain": [
       "((97, 2), (97, 1))"
      ]
     },
     "execution_count": 89,
     "metadata": {},
     "output_type": "execute_result"
    }
   ],
   "source": [
    "X.shape, y.shape"
   ]
  },
  {
   "cell_type": "code",
   "execution_count": 90,
   "metadata": {
    "collapsed": true
   },
   "outputs": [],
   "source": [
    "# Initialize theta to zeros\n",
    "theta = np.zeros((2,1))\n",
    "theta = np.asmatrix(theta)\n",
    "iterations = 1500\n",
    "alpha = 0.01"
   ]
  },
  {
   "cell_type": "markdown",
   "metadata": {},
   "source": [
    "### Computing the cost $J(\\theta)$\n",
    "As we perform gradient descent to minimize the cost function $J(\\theta)$, it is helpful to monitor the convergence by computing the cost. In this section, we will implement a function to calculate $J(\\theta)$ so we can check the convergence of our gradient descent implementation.\n",
    "\n",
    "We can see that the cost calculated for initial theta values of [0,0], is approximately **32.073**"
   ]
  },
  {
   "cell_type": "code",
   "execution_count": 91,
   "metadata": {
    "collapsed": true
   },
   "outputs": [],
   "source": [
    "def computeCost(X, y, theta):\n",
    "    '''computeCost computes cost for linear regression'''\n",
    "    # J = COMPUTECOST(X, y, theta) computes cost using theta as parameter for linear regression to fit data points in X and y'''\n",
    "\n",
    "    m = len(y)         # number of training examples\n",
    "    p = X * theta\n",
    "    sqrderr = np.square(p - y)\n",
    "    J = 1/(2*m) * (np.sum(sqrderr))   # Calculate Cost\n",
    "    return J"
   ]
  },
  {
   "cell_type": "code",
   "execution_count": 92,
   "metadata": {},
   "outputs": [
    {
     "name": "stdout",
     "output_type": "stream",
     "text": [
      "Cost when theta is [0,0] = 32.072733877455676\n"
     ]
    }
   ],
   "source": [
    "J = computeCost(X, y, theta)\n",
    "print('Cost when theta is [0,0] = {0}'.format(J))"
   ]
  },
  {
   "cell_type": "markdown",
   "metadata": {},
   "source": [
    "### Gradient Descent\n",
    "Next step is to implement gradient descent. The cost $J(\\theta)$ is parameterized by the vector $\\theta$, so we minimize the value of $J(\\theta)$ by changing the values of the vector $\\theta$.\n",
    "\n",
    "A good way to verify that gradient descent is working correctly is to look at the value of $J(\\theta)$ and check that it is decreasing with each step. The code for gradient descent calls **computeCost** on every iteration and stores the cost in **J_history**. The value of $J(\\theta)$ should never increase, and should converge to a steady value by the end of the algorithm.\n",
    "\n",
    "After this is finished, we can use our final parameters to plot the linear fit."
   ]
  },
  {
   "cell_type": "code",
   "execution_count": 93,
   "metadata": {
    "collapsed": true
   },
   "outputs": [],
   "source": [
    "def gradientDescent(X, y, theta, alpha, num_iters):\n",
    "    '''gradientDescent performs gradient descent to learn theta'''\n",
    "    \n",
    "    m = len(y);        # number of training examples\n",
    "    J_history = np.zeros((num_iters, 1));   # Initialize J_history to store cost in every iteration\n",
    "\n",
    "    for iter in range(num_iters):\n",
    "        p = X * theta;\n",
    "        s = np.multiply((p-y),X);\n",
    "        delta = (1/m) * (s.sum(axis=0));\n",
    "        theta[0] = theta[0] - (alpha * delta[0,0]);\n",
    "        theta[1] = theta[1] - (alpha * delta[0,1]);\n",
    "        \n",
    "        # Save the cost J in every iteration    \n",
    "        J_history[iter] = computeCost(X, y, theta);\n",
    "    \n",
    "    return theta, J_history"
   ]
  },
  {
   "cell_type": "code",
   "execution_count": 94,
   "metadata": {},
   "outputs": [
    {
     "data": {
      "text/plain": [
       "matrix([[-3.63029144],\n",
       "        [ 1.16636235]])"
      ]
     },
     "execution_count": 94,
     "metadata": {},
     "output_type": "execute_result"
    }
   ],
   "source": [
    "theta, J_history = gradientDescent(X, y, theta, alpha, iterations)\n",
    "theta"
   ]
  },
  {
   "cell_type": "code",
   "execution_count": 95,
   "metadata": {},
   "outputs": [
    {
     "data": {
      "text/plain": [
       "4.483388256587725"
      ]
     },
     "execution_count": 95,
     "metadata": {},
     "output_type": "execute_result"
    }
   ],
   "source": [
    "np.min(J_history)"
   ]
  },
  {
   "cell_type": "markdown",
   "metadata": {},
   "source": [
    "### Plotting the line"
   ]
  },
  {
   "cell_type": "code",
   "execution_count": 96,
   "metadata": {},
   "outputs": [
    {
     "data": {
      "image/png": "[encoded data removed]",
      "text/plain": [
       "<matplotlib.figure.Figure at 0xc8e62e8>"
      ]
     },
     "metadata": {},
     "output_type": "display_data"
    }
   ],
   "source": [
    "plt.scatter(df[['Population']], df[['Profit']], marker='o', color='blue')\n",
    "plt.plot(X[:,1], X*theta, color='red')\n",
    "plt.xlabel('Population of City in $10,000s')\n",
    "plt.ylabel('Profit in 10,000s')\n",
    "\n",
    "# Display the plot\n",
    "plt.show()"
   ]
  },
  {
   "cell_type": "markdown",
   "metadata": {},
   "source": [
    "## Visualizing $J(\\theta)$"
   ]
  },
  {
   "cell_type": "markdown",
   "metadata": {},
   "source": [
    "To understand the cost function $J(\\theta)$ better, we will now plot the cost over\n",
    "a 2-dimensional grid of $\\theta_0$ and $\\theta_1$ values. \n",
    "In the next step, there is code set up to calculate $J(\\theta)$ over a\n",
    "grid of values using the computeCost function."
   ]
  },
  {
   "cell_type": "code",
   "execution_count": 97,
   "metadata": {
    "collapsed": true
   },
   "outputs": [],
   "source": [
    "theta0_vals = np.linspace(-10, 10, 100);\n",
    "theta1_vals = np.linspace(-1, 4, 100);\n",
    "\n",
    "# initialize J vals to a matrix of 0's\n",
    "J_vals = np.zeros((len(theta0_vals), len(theta1_vals)))\n",
    "# Fill out J vals\n",
    "for i in range(len(theta0_vals)):\n",
    "    for j in range(len(theta1_vals)):\n",
    "        t = [[theta0_vals[i]], [theta1_vals[j]]]\n",
    "        J_vals[i,j] = computeCost(X, y, t)"
   ]
  },
  {
   "cell_type": "markdown",
   "metadata": {},
   "source": [
    "### Creating Surface and Contour plots\n",
    "\n",
    "After the above lines are executed, we will have a 2-D array of $J(\\theta)$ values.\n",
    "We will use these values to produce surface and contour\n",
    "plots of $J(\\theta)$. \n",
    "\n",
    "The purpose of these graphs is to show how $J(\\theta)$ varies with\n",
    "changes in $\\theta_0$ and $\\theta_1$. The cost function $J(\\theta)$ is bowl-shaped and has a global\n",
    "mininum. (This is easier to see in the contour plot than in the 3D surface\n",
    "plot). This minimum is the optimal point for $\\theta_0$ and $\\theta_1$, and each step of\n",
    "gradient descent moves closer to this point."
   ]
  },
  {
   "cell_type": "code",
   "execution_count": 98,
   "metadata": {},
   "outputs": [
    {
     "data": {
      "image/png": "[encoded data removed]",
      "text/plain": [
       "<matplotlib.figure.Figure at 0xc887550>"
      ]
     },
     "metadata": {},
     "output_type": "display_data"
    }
   ],
   "source": [
    "ax1 = plt.axes(projection='3d')\n",
    "ax1.plot_surface(theta0_vals, theta1_vals, np.transpose(J_vals), rstride=1, cstride=1, cmap='viridis', edgecolor='none')\n",
    "ax1.set_xlabel('theta0_vals')\n",
    "ax1.set_ylabel('theta1_vals')\n",
    "ax1.set_zlabel('J_vals')\n",
    "ax1.view_init(20, 20)\n",
    "plt.show()"
   ]
  },
  {
   "cell_type": "code",
   "execution_count": 99,
   "metadata": {
    "scrolled": true
   },
   "outputs": [
    {
     "data": {
      "image/png": "[encoded data removed]",
      "text/plain": [
       "<matplotlib.figure.Figure at 0xbb306a0>"
      ]
     },
     "metadata": {},
     "output_type": "display_data"
    }
   ],
   "source": [
    "plt.contourf(theta0_vals, theta1_vals, np.transpose(J_vals), 110, cmap='RdGy')\n",
    "plt.colorbar();"
   ]
  },
  {
   "cell_type": "markdown",
   "metadata": {},
   "source": [
    "### Predicting profits based on given population\n",
    "\n",
    "Now, we can use $\\theta$ to predict profits (y) based on the population input (X). \n",
    "\n",
    "For population of 35,000, we predict a profit of \\$4519.77. And for population of 70,000, we predict a profit of \\$45342.45. These are shown in the code below:"
   ]
  },
  {
   "cell_type": "code",
   "execution_count": 102,
   "metadata": {},
   "outputs": [
    {
     "name": "stdout",
     "output_type": "stream",
     "text": [
      "Profit predicted for population of 35,000 is 4519.7678677017675\n",
      "Profit predicted for population of 70,000 is 45342.45012944714\n"
     ]
    }
   ],
   "source": [
    "profit_35k = ([1,3.5]* theta)*10000\n",
    "profit_70k = ([1,7]*theta)*10000\n",
    "print('Profit predicted for population of 35,000 is {0}'.format(profit_35k[0,0]))\n",
    "print('Profit predicted for population of 70,000 is {0}'.format(profit_70k[0,0]))"
   ]
  }
 ],
 "metadata": {
  "kernelspec": {
   "display_name": "Python 3",
   "language": "python",
   "name": "python3"
  },
  "language_info": {
   "codemirror_mode": {
    "name": "ipython",
    "version": 3
   },
   "file_extension": ".py",
   "mimetype": "text/x-python",
   "name": "python",
   "nbconvert_exporter": "python",
   "pygments_lexer": "ipython3",
   "version": "3.6.2"
  }
 },
 "nbformat": 4,
 "nbformat_minor": 2
}
