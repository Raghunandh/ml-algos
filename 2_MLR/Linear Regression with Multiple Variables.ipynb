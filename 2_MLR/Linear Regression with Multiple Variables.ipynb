{
 "cells": [
  {
   "cell_type": "markdown",
   "metadata": {
    "collapsed": true
   },
   "source": [
    "# Linear Regression with Multiple Variables\n",
    "\n",
    "\n",
    "\n",
    "This notebook is an implemention of Multiple Linear Regression to predict the prices of houses. Suppose we are selling a house and we want to know what a good market price would be. One way to do this is to\n",
    "first collect information on recent houses sold and make a model of housing\n",
    "prices.\n",
    "\n",
    "The file 'data2_multi.txt' contains a training set of housing prices in Portland, Oregon. The first column is the size of the house (in square feet), the\n",
    "second column is the number of bedrooms, and the third column is the price\n",
    "of the house."
   ]
  },
  {
   "cell_type": "code",
   "execution_count": 1,
   "metadata": {
    "collapsed": true
   },
   "outputs": [],
   "source": [
    "# Import the necessary packages\n",
    "import numpy as np\n",
    "import pandas as pd\n",
    "import matplotlib.pyplot as plt\n",
    "\n",
    "from mpl_toolkits import mplot3d\n",
    "\n",
    "%matplotlib inline"
   ]
  },
  {
   "cell_type": "code",
   "execution_count": 2,
   "metadata": {
    "collapsed": true
   },
   "outputs": [],
   "source": [
    "# Load the dataset as a numpy array\n",
    "dataset_array = np.loadtxt('data2_multi.txt', delimiter=',')\n",
    "m,n = dataset_array.shape"
   ]
  },
  {
   "cell_type": "code",
   "execution_count": 3,
   "metadata": {
    "collapsed": true
   },
   "outputs": [],
   "source": [
    "# Get independent and dependent variables from the dataset and store them in 'X' and 'y'\n",
    "X = dataset_array[:, :n-1]\n",
    "X = np.asmatrix(X)\n",
    "y = dataset_array[:,-1]\n",
    "y = y.reshape(m,1)\n",
    "y = np.asmatrix(y)"
   ]
  },
  {
   "cell_type": "code",
   "execution_count": 4,
   "metadata": {},
   "outputs": [
    {
     "data": {
      "text/plain": [
       "((47, 2), (47, 1))"
      ]
     },
     "execution_count": 4,
     "metadata": {},
     "output_type": "execute_result"
    }
   ],
   "source": [
    "# Print the shapes of the numpy arrays\n",
    "X.shape, y.shape"
   ]
  },
  {
   "cell_type": "code",
   "execution_count": 5,
   "metadata": {},
   "outputs": [
    {
     "data": {
      "text/plain": [
       "matrix([[  2.10400000e+03,   3.00000000e+00],\n",
       "        [  1.60000000e+03,   3.00000000e+00],\n",
       "        [  2.40000000e+03,   3.00000000e+00],\n",
       "        [  1.41600000e+03,   2.00000000e+00],\n",
       "        [  3.00000000e+03,   4.00000000e+00]])"
      ]
     },
     "execution_count": 5,
     "metadata": {},
     "output_type": "execute_result"
    }
   ],
   "source": [
    "# Print first 5 rows of 'X'\n",
    "X[:5,:]"
   ]
  },
  {
   "cell_type": "code",
   "execution_count": 26,
   "metadata": {},
   "outputs": [
    {
     "data": {
      "text/html": [
       "<div>\n",
       "<style>\n",
       "    .dataframe thead tr:only-child th {\n",
       "        text-align: right;\n",
       "    }\n",
       "\n",
       "    .dataframe thead th {\n",
       "        text-align: left;\n",
       "    }\n",
       "\n",
       "    .dataframe tbody tr th {\n",
       "        vertical-align: top;\n",
       "    }\n",
       "</style>\n",
       "<table border=\"1\" class=\"dataframe\">\n",
       "  <thead>\n",
       "    <tr style=\"text-align: right;\">\n",
       "      <th></th>\n",
       "      <th>Sq. Ft.</th>\n",
       "      <th>No. of Bedrooms</th>\n",
       "      <th>Price</th>\n",
       "    </tr>\n",
       "  </thead>\n",
       "  <tbody>\n",
       "    <tr>\n",
       "      <th>0</th>\n",
       "      <td>2104</td>\n",
       "      <td>3</td>\n",
       "      <td>399900</td>\n",
       "    </tr>\n",
       "    <tr>\n",
       "      <th>1</th>\n",
       "      <td>1600</td>\n",
       "      <td>3</td>\n",
       "      <td>329900</td>\n",
       "    </tr>\n",
       "    <tr>\n",
       "      <th>2</th>\n",
       "      <td>2400</td>\n",
       "      <td>3</td>\n",
       "      <td>369000</td>\n",
       "    </tr>\n",
       "    <tr>\n",
       "      <th>3</th>\n",
       "      <td>1416</td>\n",
       "      <td>2</td>\n",
       "      <td>232000</td>\n",
       "    </tr>\n",
       "    <tr>\n",
       "      <th>4</th>\n",
       "      <td>3000</td>\n",
       "      <td>4</td>\n",
       "      <td>539900</td>\n",
       "    </tr>\n",
       "  </tbody>\n",
       "</table>\n",
       "</div>"
      ],
      "text/plain": [
       "   Sq. Ft.  No. of Bedrooms   Price\n",
       "0     2104                3  399900\n",
       "1     1600                3  329900\n",
       "2     2400                3  369000\n",
       "3     1416                2  232000\n",
       "4     3000                4  539900"
      ]
     },
     "execution_count": 26,
     "metadata": {},
     "output_type": "execute_result"
    }
   ],
   "source": [
    "df.head()"
   ]
  },
  {
   "cell_type": "code",
   "execution_count": 27,
   "metadata": {},
   "outputs": [
    {
     "name": "stdout",
     "output_type": "stream",
     "text": [
      "<class 'pandas.core.frame.DataFrame'>\n",
      "RangeIndex: 47 entries, 0 to 46\n",
      "Data columns (total 3 columns):\n",
      "Sq. Ft.            47 non-null int64\n",
      "No. of Bedrooms    47 non-null int64\n",
      "Price              47 non-null int64\n",
      "dtypes: int64(3)\n",
      "memory usage: 1.2 KB\n"
     ]
    }
   ],
   "source": [
    "df.info()"
   ]
  },
  {
   "cell_type": "code",
   "execution_count": 28,
   "metadata": {},
   "outputs": [
    {
     "data": {
      "text/html": [
       "<div>\n",
       "<style>\n",
       "    .dataframe thead tr:only-child th {\n",
       "        text-align: right;\n",
       "    }\n",
       "\n",
       "    .dataframe thead th {\n",
       "        text-align: left;\n",
       "    }\n",
       "\n",
       "    .dataframe tbody tr th {\n",
       "        vertical-align: top;\n",
       "    }\n",
       "</style>\n",
       "<table border=\"1\" class=\"dataframe\">\n",
       "  <thead>\n",
       "    <tr style=\"text-align: right;\">\n",
       "      <th></th>\n",
       "      <th>Sq. Ft.</th>\n",
       "      <th>No. of Bedrooms</th>\n",
       "      <th>Price</th>\n",
       "    </tr>\n",
       "  </thead>\n",
       "  <tbody>\n",
       "    <tr>\n",
       "      <th>count</th>\n",
       "      <td>47.000000</td>\n",
       "      <td>47.000000</td>\n",
       "      <td>47.000000</td>\n",
       "    </tr>\n",
       "    <tr>\n",
       "      <th>mean</th>\n",
       "      <td>2000.680851</td>\n",
       "      <td>3.170213</td>\n",
       "      <td>340412.659574</td>\n",
       "    </tr>\n",
       "    <tr>\n",
       "      <th>std</th>\n",
       "      <td>794.702354</td>\n",
       "      <td>0.760982</td>\n",
       "      <td>125039.899586</td>\n",
       "    </tr>\n",
       "    <tr>\n",
       "      <th>min</th>\n",
       "      <td>852.000000</td>\n",
       "      <td>1.000000</td>\n",
       "      <td>169900.000000</td>\n",
       "    </tr>\n",
       "    <tr>\n",
       "      <th>25%</th>\n",
       "      <td>1432.000000</td>\n",
       "      <td>3.000000</td>\n",
       "      <td>249900.000000</td>\n",
       "    </tr>\n",
       "    <tr>\n",
       "      <th>50%</th>\n",
       "      <td>1888.000000</td>\n",
       "      <td>3.000000</td>\n",
       "      <td>299900.000000</td>\n",
       "    </tr>\n",
       "    <tr>\n",
       "      <th>75%</th>\n",
       "      <td>2269.000000</td>\n",
       "      <td>4.000000</td>\n",
       "      <td>384450.000000</td>\n",
       "    </tr>\n",
       "    <tr>\n",
       "      <th>max</th>\n",
       "      <td>4478.000000</td>\n",
       "      <td>5.000000</td>\n",
       "      <td>699900.000000</td>\n",
       "    </tr>\n",
       "  </tbody>\n",
       "</table>\n",
       "</div>"
      ],
      "text/plain": [
       "           Sq. Ft.  No. of Bedrooms          Price\n",
       "count    47.000000        47.000000      47.000000\n",
       "mean   2000.680851         3.170213  340412.659574\n",
       "std     794.702354         0.760982  125039.899586\n",
       "min     852.000000         1.000000  169900.000000\n",
       "25%    1432.000000         3.000000  249900.000000\n",
       "50%    1888.000000         3.000000  299900.000000\n",
       "75%    2269.000000         4.000000  384450.000000\n",
       "max    4478.000000         5.000000  699900.000000"
      ]
     },
     "execution_count": 28,
     "metadata": {},
     "output_type": "execute_result"
    }
   ],
   "source": [
    "df.describe()"
   ]
  },
  {
   "cell_type": "markdown",
   "metadata": {},
   "source": [
    "## Feature Normalization\n",
    "\n",
    "By looking at the values in the dataset, we can see that house sizes are about\n",
    "1000 times the number of bedrooms. If we were to run our regression algorithm on this data as-is, then the \"Sq. Ft.\" variable would be weighted too heavily and would end up dwarfing any contributions from the \"No. of Bedrooms\" feature. When features differ by orders of magnitude, performing feature scaling can make gradient descent converge\n",
    "much more quickly. One way to do this is by subtracting from each value in a feature the mean of that feature, and then dividing by the standard deviation."
   ]
  },
  {
   "cell_type": "code",
   "execution_count": 29,
   "metadata": {},
   "outputs": [
    {
     "data": {
      "text/plain": [
       "matrix([[ 0.13141542, -0.22609337],\n",
       "        [-0.5096407 , -0.22609337],\n",
       "        [ 0.5079087 , -0.22609337],\n",
       "        [-0.74367706, -1.5543919 ],\n",
       "        [ 1.27107075,  1.10220517]])"
      ]
     },
     "execution_count": 29,
     "metadata": {},
     "output_type": "execute_result"
    }
   ],
   "source": [
    "mu = np.mean(X, axis=0)  # Calculate Mean\n",
    "sigma = np.std(X, axis=0)   # Calculate Standard Deviation\n",
    "X = (X - mu) / sigma  # Get standardized X values\n",
    "X[:5, :]"
   ]
  },
  {
   "cell_type": "code",
   "execution_count": 30,
   "metadata": {},
   "outputs": [
    {
     "data": {
      "text/plain": [
       "matrix([[ 1.        ,  0.13141542, -0.22609337],\n",
       "        [ 1.        , -0.5096407 , -0.22609337],\n",
       "        [ 1.        ,  0.5079087 , -0.22609337],\n",
       "        [ 1.        , -0.74367706, -1.5543919 ],\n",
       "        [ 1.        ,  1.27107075,  1.10220517]])"
      ]
     },
     "execution_count": 30,
     "metadata": {},
     "output_type": "execute_result"
    }
   ],
   "source": [
    "# Adding column of 1's as the first column to get X0\n",
    "X_new = np.ones((m, n))\n",
    "X_new[:,1:] = X\n",
    "X = X_new\n",
    "X = np.asmatrix(X)\n",
    "X[:5,:]   # Print first 5 rows of the new array"
   ]
  },
  {
   "cell_type": "code",
   "execution_count": 31,
   "metadata": {
    "collapsed": true
   },
   "outputs": [],
   "source": [
    "# Initialize theta to zeros and also initialize learning rate alpha\n",
    "theta = np.zeros((n,1))\n",
    "theta = np.asmatrix(theta)\n",
    "iterations = 300\n",
    "alpha = 0.01"
   ]
  },
  {
   "cell_type": "markdown",
   "metadata": {},
   "source": [
    "## Computing Cost and Implementing Gradient Descent\n",
    "\n",
    "This step is similar to how we calculated cost and gradient for Simple Linear Regression. Both our cost and gradient descent functions are using matrix operations so there is no change to the code necessary to handle multiple linear regression."
   ]
  },
  {
   "cell_type": "code",
   "execution_count": 32,
   "metadata": {
    "collapsed": true
   },
   "outputs": [],
   "source": [
    "def computeCostMulti(X, y, theta):\n",
    "    '''Compute cost for multiple linear regression'''\n",
    "\n",
    "    m = len(y)         # number of training examples\n",
    "    p = X * theta\n",
    "    sqrderr = np.square(p - y)\n",
    "    J=1/(2*m) * (np.sum(sqrderr))\n",
    "    return J"
   ]
  },
  {
   "cell_type": "code",
   "execution_count": 33,
   "metadata": {
    "collapsed": true
   },
   "outputs": [],
   "source": [
    "def gradientDescentMulti(X, y, theta, alpha, num_iters):\n",
    "    '''Perform gradient descent to learn theta'''\n",
    "    \n",
    "    m = len(y);        # number of training examples\n",
    "    n = theta.size\n",
    "    J_history = np.zeros((num_iters, 1));\n",
    "    \n",
    "    for iterations in range(num_iters):\n",
    "        \n",
    "        # Loop Implementation\n",
    "        p = X * theta\n",
    "        s = np.multiply((p-y),X)\n",
    "        delta = (1/m) * (s.sum(axis=0))\n",
    "        \n",
    "        for i in range(n):\n",
    "            theta[i] = theta[i] - (alpha * delta[0,i])\n",
    "        \n",
    "        '''\n",
    "        # Vectorized implementation\n",
    "        p = (X * theta) - y                                   # (m x 1 vector)\n",
    "        delta = (1/m) * np.transpose(np.transpose(p) * X)     # ((n+1) x 1 vector)\n",
    "        theta = theta - (alpha * delta)                       # ((n+1) x 1 vector)\n",
    "        '''\n",
    "        \n",
    "        # Save the cost J in every iteration    \n",
    "        J_history[iterations] = computeCostMulti(X, y, theta)\n",
    "    \n",
    "    return theta, J_history"
   ]
  },
  {
   "cell_type": "code",
   "execution_count": 34,
   "metadata": {
    "scrolled": true
   },
   "outputs": [
    {
     "data": {
      "text/plain": [
       "matrix([[ 323718.51839575],\n",
       "        [  93537.02912926],\n",
       "        [   8412.36276572]])"
      ]
     },
     "execution_count": 34,
     "metadata": {},
     "output_type": "execute_result"
    }
   ],
   "source": [
    "theta, J_history = gradientDescentMulti(X, y, theta, alpha, iterations)\n",
    "theta"
   ]
  },
  {
   "cell_type": "code",
   "execution_count": 35,
   "metadata": {
    "scrolled": true
   },
   "outputs": [
    {
     "data": {
      "image/png": "[encoded data removed]",
      "text/plain": [
       "<matplotlib.figure.Figure at 0xa66f588>"
      ]
     },
     "metadata": {},
     "output_type": "display_data"
    }
   ],
   "source": [
    "# Plot the cost of each iteration to visualize how J reaches its minimum\n",
    "plt.plot(range(len(J_history)), J_history)\n",
    "plt.xlabel('Number of Iterations')\n",
    "plt.ylabel('Cost J')\n",
    "plt.show()"
   ]
  },
  {
   "cell_type": "markdown",
   "metadata": {},
   "source": [
    "### Predicting price of a 1650 sq. ft., 3 bedroom house"
   ]
  },
  {
   "cell_type": "code",
   "execution_count": 36,
   "metadata": {},
   "outputs": [
    {
     "data": {
      "text/plain": [
       "matrix([[  1.54685054e+08]])"
      ]
     },
     "execution_count": 36,
     "metadata": {},
     "output_type": "execute_result"
    }
   ],
   "source": [
    "[1,1650,3]*theta"
   ]
  },
  {
   "cell_type": "code",
   "execution_count": null,
   "metadata": {
    "collapsed": true
   },
   "outputs": [],
   "source": []
  }
 ],
 "metadata": {
  "kernelspec": {
   "display_name": "Python 3",
   "language": "python",
   "name": "python3"
  },
  "language_info": {
   "codemirror_mode": {
    "name": "ipython",
    "version": 3
   },
   "file_extension": ".py",
   "mimetype": "text/x-python",
   "name": "python",
   "nbconvert_exporter": "python",
   "pygments_lexer": "ipython3",
   "version": "3.6.2"
  }
 },
 "nbformat": 4,
 "nbformat_minor": 2
}
